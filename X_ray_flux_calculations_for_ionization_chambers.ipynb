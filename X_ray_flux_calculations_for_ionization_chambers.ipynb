{
  "nbformat": 4,
  "nbformat_minor": 0,
  "metadata": {
    "colab": {
      "name": "X-ray flux calculations for ionization chambers",
      "provenance": [],
      "authorship_tag": "ABX9TyMjIgzueHtVe7jm3wsAr7jB",
      "include_colab_link": true
    },
    "kernelspec": {
      "name": "python3",
      "display_name": "Python 3"
    }
  },
  "cells": [
    {
      "cell_type": "markdown",
      "metadata": {
        "id": "view-in-github",
        "colab_type": "text"
      },
      "source": [
        "<a href=\"https://colab.research.google.com/github/juniorcmauricio/XAFS2_LNLS/blob/master/X_ray_flux_calculations_for_ionization_chambers.ipynb\" target=\"_parent\"><img src=\"https://colab.research.google.com/assets/colab-badge.svg\" alt=\"Open In Colab\"/></a>"
      ]
    },
    {
      "cell_type": "markdown",
      "metadata": {
        "id": "0SAP13O1fn8r"
      },
      "source": [
        "# X-ray flux calculations for ionization chambers and photodiodes\n"
      ]
    },
    {
      "cell_type": "code",
      "metadata": {
        "colab": {
          "base_uri": "https://localhost:8080/"
        },
        "id": "_S4sfaOueWta",
        "outputId": "ce27e463-f0e5-4251-b48c-16c45ce251d4"
      },
      "source": [
        "!pip install xraydb"
      ],
      "execution_count": null,
      "outputs": [
        {
          "output_type": "stream",
          "text": [
            "Collecting xraydb\n",
            "\u001b[?25l  Downloading https://files.pythonhosted.org/packages/c5/2a/4338d52469a959e704b0986e65e3423b142fbfb5f543a897d8f19eba1708/xraydb-4.4.5.tar.gz (3.9MB)\n",
            "\u001b[K     |████████████████████████████████| 3.9MB 5.9MB/s \n",
            "\u001b[?25hRequirement already satisfied: sqlalchemy in /usr/local/lib/python3.6/dist-packages (from xraydb) (1.3.20)\n",
            "Requirement already satisfied: numpy in /usr/local/lib/python3.6/dist-packages (from xraydb) (1.18.5)\n",
            "Requirement already satisfied: scipy in /usr/local/lib/python3.6/dist-packages (from xraydb) (1.4.1)\n",
            "Building wheels for collected packages: xraydb\n",
            "  Building wheel for xraydb (setup.py) ... \u001b[?25l\u001b[?25hdone\n",
            "  Created wheel for xraydb: filename=xraydb-4.4.5-cp36-none-any.whl size=3846863 sha256=56c20d83396ab8138cbb40cba57d41c1e97194571c6075cf30aac206c9c195b3\n",
            "  Stored in directory: /root/.cache/pip/wheels/ec/72/40/e1ed7f17548438b27d748e107019f217ed20803a29246987ce\n",
            "Successfully built xraydb\n",
            "Installing collected packages: xraydb\n",
            "Successfully installed xraydb-4.4.5\n"
          ],
          "name": "stdout"
        }
      ]
    },
    {
      "cell_type": "code",
      "metadata": {
        "id": "E6gIZ5p7idaJ"
      },
      "source": [
        "import xraydb"
      ],
      "execution_count": null,
      "outputs": []
    },
    {
      "cell_type": "markdown",
      "metadata": {
        "id": "cqEZIm7Gilg3"
      },
      "source": [
        "The energy from a single X-ray generates a number of electron-ion pairs given by the effective ionization potential of the gas. "
      ]
    },
    {
      "cell_type": "code",
      "metadata": {
        "colab": {
          "base_uri": "https://localhost:8080/"
        },
        "id": "okSl6WkaikHZ",
        "outputId": "5abf5b9b-cda9-4826-ce52-5c96b73e9bb1"
      },
      "source": [
        "print('He ->', xraydb.ionization_potential('He'), 'eV')\n",
        "print('N2 ->', xraydb.ionization_potential('N2'), 'eV')\n",
        "print('Ar ->', xraydb.ionization_potential('Ar'), 'eV')\n",
        "print('Kr ->', xraydb.ionization_potential('Kr'), 'eV')"
      ],
      "execution_count": null,
      "outputs": [
        {
          "output_type": "stream",
          "text": [
            "He -> 41.3 eV\n",
            "N2 -> 34.8 eV\n",
            "Ar -> 26.4 eV\n",
            "Kr -> 24.4 eV\n"
          ],
          "name": "stdout"
        }
      ]
    },
    {
      "cell_type": "code",
      "metadata": {
        "id": "P64Wb6lFi7_7"
      },
      "source": [
        ""
      ],
      "execution_count": null,
      "outputs": []
    },
    {
      "cell_type": "markdown",
      "metadata": {
        "id": "78nBvStumPsu"
      },
      "source": [
        "It is necessary experimental data, for instance, the output voltage of the current amplifier.\n",
        "\n",
        "Continue after the data and use https://xraypy.github.io/XrayDB/examples.html"
      ]
    },
    {
      "cell_type": "code",
      "metadata": {
        "id": "mzmbY4c5maby"
      },
      "source": [
        ""
      ],
      "execution_count": null,
      "outputs": []
    }
  ]
}